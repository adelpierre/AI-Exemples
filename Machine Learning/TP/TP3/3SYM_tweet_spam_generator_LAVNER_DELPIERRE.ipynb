{
  "nbformat": 4,
  "nbformat_minor": 0,
  "metadata": {
    "colab": {
      "name": "TP3_LAVNER_DELPIERRE.ipynb",
      "version": "0.3.2",
      "provenance": [],
      "collapsed_sections": [],
      "toc_visible": true
    },
    "kernelspec": {
      "name": "python3",
      "display_name": "Python 3"
    },
    "accelerator": "GPU"
  },
  "cells": [
    {
      "cell_type": "markdown",
      "metadata": {
        "id": "JQw0YnIvwpuX",
        "colab_type": "text"
      },
      "source": [
        "**Tweet spam generator**\n",
        "\n",
        "Our goal is to code a bot that can output realistic tweets. For that purpose, we are given a dataset of 100k tweets. The first part will be to train an encoder/decoder that we can use as a generator. The second part will be to train our generator using an adversarial critic that distinguish between real tweets and generated tweets"
      ]
    },
    {
      "cell_type": "code",
      "metadata": {
        "id": "1eunaytrspnF",
        "colab_type": "code",
        "colab": {}
      },
      "source": [
        "import numpy as np\n",
        "import tensorflow as tf"
      ],
      "execution_count": 0,
      "outputs": []
    },
    {
      "cell_type": "code",
      "metadata": {
        "id": "sulMBxxSoBGz",
        "colab_type": "code",
        "outputId": "16615f4a-8560-4a77-9b01-6371bcae26db",
        "colab": {
          "base_uri": "https://localhost:8080/",
          "height": 272
        }
      },
      "source": [
        "!wget http://perso-etis.ensea.fr/picard/tweets_100k.txt;"
      ],
      "execution_count": 0,
      "outputs": [
        {
          "output_type": "stream",
          "text": [
            "--2019-06-05 09:46:43--  http://perso-etis.ensea.fr/picard/tweets_100k.txt\n",
            "Resolving perso-etis.ensea.fr (perso-etis.ensea.fr)... 193.51.45.246\n",
            "Connecting to perso-etis.ensea.fr (perso-etis.ensea.fr)|193.51.45.246|:80... connected.\n",
            "HTTP request sent, awaiting response... 301 Moved Permanently\n",
            "Location: https://perso-etis.ensea.fr//picard/tweets_100k.txt [following]\n",
            "--2019-06-05 09:46:44--  https://perso-etis.ensea.fr//picard/tweets_100k.txt\n",
            "Connecting to perso-etis.ensea.fr (perso-etis.ensea.fr)|193.51.45.246|:443... connected.\n",
            "HTTP request sent, awaiting response... 200 OK\n",
            "Length: 6267498 (6.0M) [text/plain]\n",
            "Saving to: ‘tweets_100k.txt.1’\n",
            "\n",
            "tweets_100k.txt.1   100%[===================>]   5.98M  6.64MB/s    in 0.9s    \n",
            "\n",
            "2019-06-05 09:46:45 (6.64 MB/s) - ‘tweets_100k.txt.1’ saved [6267498/6267498]\n",
            "\n"
          ],
          "name": "stdout"
        }
      ]
    },
    {
      "cell_type": "markdown",
      "metadata": {
        "id": "tOTpuBj1t2kf",
        "colab_type": "text"
      },
      "source": [
        "**Prepare dataset**\n",
        "\n",
        "convert string to sequences of integer and pad right with zeros"
      ]
    },
    {
      "cell_type": "code",
      "metadata": {
        "id": "CSGQyedWoIjl",
        "colab_type": "code",
        "colab": {}
      },
      "source": [
        "tweets = []\n",
        "with open('tweets_100k.txt', 'r') as f:\n",
        "  for line in f:\n",
        "    tweets.append(line)"
      ],
      "execution_count": 0,
      "outputs": []
    },
    {
      "cell_type": "code",
      "metadata": {
        "id": "G7ibiR8y4Lb0",
        "colab_type": "code",
        "colab": {}
      },
      "source": [
        "# Générateur de phrases en anglais\n",
        "# Copié et adapté depuis http://pythonfiddle.com/random-sentence-generator/\n",
        "import random\n",
        "\n",
        "s_nouns = [\"A dude\", \"My mom\", \"The king\", \"Some guy\", \"A cat with rabies\", \"A sloth\", \"Your homie\", \"This cool guy my gardener met yesterday\", \"Superman\"]\n",
        "p_nouns = [\"These dudes\", \"Both of my moms\", \"All the kings of the world\", \"Some guys\", \"All of a cattery's cats\", \"The multitude of sloths living under your bed\", \"Your homies\", \"Like, these, like, all these people\", \"Supermen\"]\n",
        "s_verbs = [\"eats\", \"kicks\", \"gives\", \"treats\", \"meets with\", \"creates\", \"hacks\", \"configures\", \"spies on\", \"retards\", \"meows on\", \"flees from\", \"tries to automate\", \"explodes\"]\n",
        "p_verbs = [\"eat\", \"kick\", \"give\", \"treat\", \"meet with\", \"create\", \"hack\", \"configure\", \"spy on\", \"retard\", \"meow on\", \"flee from\", \"try to automate\", \"explode\"]\n",
        "infinitives = [\"to make a pie \\n\", \"for no apparent reason \\n\", \"because the sky is green \\n\", \"for a disease \\n\", \"to be able to make toast explode \\n\", \"to know more about archeology \\n\"]\n",
        "def gen():\n",
        "  return ' '.join((random.choice(s_nouns), random.choice(s_verbs), random.choice(p_nouns).lower(), random.choice(infinitives)))\n",
        "\n",
        "def gen_n(n):\n",
        "  tweets_test = []\n",
        "  for i in range(n):\n",
        "    tweets_test.append(gen())\n",
        "  return tweets_test"
      ],
      "execution_count": 0,
      "outputs": []
    },
    {
      "cell_type": "code",
      "metadata": {
        "id": "XiPLvztDrGuz",
        "colab_type": "code",
        "colab": {}
      },
      "source": [
        "def tweet_encoder(tweets):\n",
        "  x = []\n",
        "  for t in tweets:\n",
        "    x.append([ord(c) for c in t])\n",
        "  x = tf.keras.preprocessing.sequence.pad_sequences(x, maxlen=140, padding='post', value=0)\n",
        "  return np.array(x)"
      ],
      "execution_count": 0,
      "outputs": []
    },
    {
      "cell_type": "code",
      "metadata": {
        "id": "fOZGCbqc6yZ0",
        "colab_type": "code",
        "colab": {}
      },
      "source": [
        "X_train = tweet_encoder(tweets)\n",
        "\n",
        "X_test =  tweet_encoder(gen_n(100))"
      ],
      "execution_count": 0,
      "outputs": []
    },
    {
      "cell_type": "markdown",
      "metadata": {
        "id": "a5gH_VapuBUC",
        "colab_type": "text"
      },
      "source": [
        "**Create batch generator**\n",
        "\n",
        "Converting the list of integers to one-hot vectors would exhaust the memory. The generator allows us to generate the large sparse vectors on the fly, only when needed"
      ]
    },
    {
      "cell_type": "code",
      "metadata": {
        "id": "c4w9CMqcps58",
        "colab_type": "code",
        "colab": {}
      },
      "source": [
        "class TweetSequence(tf.keras.utils.Sequence):\n",
        "  def __init__(self, x, batch_size=32):\n",
        "    self.x = x\n",
        "    self.batch_size = batch_size\n",
        "  def __len__(self):\n",
        "    return len(self.x)//self.batch_size\n",
        "  def __getitem__(self, idx):\n",
        "    batch = self.x[idx*self.batch_size:(idx+1)*self.batch_size, :]\n",
        "    batch = tf.keras.utils.to_categorical(batch, num_classes=256)\n",
        "    return batch, batch"
      ],
      "execution_count": 0,
      "outputs": []
    },
    {
      "cell_type": "markdown",
      "metadata": {
        "id": "GRnAHQewwE5H",
        "colab_type": "text"
      },
      "source": [
        "**Create autoencoder model**\n",
        "\n",
        "Create a deep neural network that encodes and decodes the character string. The objective is to perform reconstruction, that is, recovering the same one hot sequence as the input at the output."
      ]
    },
    {
      "cell_type": "code",
      "metadata": {
        "id": "EGcJSd-KTBSI",
        "colab_type": "code",
        "colab": {}
      },
      "source": [
        "X_train = TweetSequence(X_train)\n",
        "X_test = TweetSequence(X_test)"
      ],
      "execution_count": 0,
      "outputs": []
    },
    {
      "cell_type": "markdown",
      "metadata": {
        "id": "zCr1IGIX8Wgi",
        "colab_type": "text"
      },
      "source": [
        "## Test avec layer Dense fully connected\n",
        "Cela implique trop de paramètres, et en tenant compte de la présence de LSTM, l'entraînement est trop long.\n",
        "On testera par la suite un autre modèle."
      ]
    },
    {
      "cell_type": "code",
      "metadata": {
        "id": "ltODCHIetqr-",
        "colab_type": "code",
        "outputId": "aa7a32c5-2537-4593-ae0a-5f61de95df11",
        "colab": {
          "base_uri": "https://localhost:8080/",
          "height": 459
        }
      },
      "source": [
        "from tensorflow.keras.layers import *\n",
        "from tensorflow.keras.models import Model, Sequential\n",
        "\n",
        "timesteps = 140\n",
        "input_dim = 256\n",
        "\n",
        "encoder_inputs = Input(shape=(timesteps, input_dim))\n",
        "encoder_lstm = CuDNNLSTM(input_dim)(encoder_inputs)\n",
        "\n",
        "decoder_inputs = Input(shape=(input_dim,))\n",
        "decoder_dense = Dense(timesteps*input_dim)(decoder_inputs)\n",
        "decoder_reshape = Reshape((timesteps, input_dim))(decoder_dense)\n",
        "decoder_lstm = CuDNNLSTM(input_dim, return_sequences=True)(decoder_reshape)\n",
        "decoder_outputs = Activation('softmax')(decoder_reshape)\n",
        "\n",
        "encoder = Model(inputs=encoder_inputs, outputs=encoder_lstm)\n",
        "decoder = Model(inputs=decoder_inputs, outputs=decoder_outputs)\n",
        "\n",
        "encoder.summary()\n",
        "decoder.summary()\n",
        "\n",
        "sequence_autoencoder = Sequential()\n",
        "sequence_autoencoder.add(encoder)\n",
        "sequence_autoencoder.add(decoder)"
      ],
      "execution_count": 0,
      "outputs": [
        {
          "output_type": "stream",
          "text": [
            "_________________________________________________________________\n",
            "Layer (type)                 Output Shape              Param #   \n",
            "=================================================================\n",
            "input_3 (InputLayer)         (None, 140, 256)          0         \n",
            "_________________________________________________________________\n",
            "cu_dnnlstm (CuDNNLSTM)       (None, 256)               526336    \n",
            "=================================================================\n",
            "Total params: 526,336\n",
            "Trainable params: 526,336\n",
            "Non-trainable params: 0\n",
            "_________________________________________________________________\n",
            "_________________________________________________________________\n",
            "Layer (type)                 Output Shape              Param #   \n",
            "=================================================================\n",
            "input_4 (InputLayer)         (None, 256)               0         \n",
            "_________________________________________________________________\n",
            "dense (Dense)                (None, 35840)             9210880   \n",
            "_________________________________________________________________\n",
            "reshape_1 (Reshape)          (None, 140, 256)          0         \n",
            "_________________________________________________________________\n",
            "activation (Activation)      (None, 140, 256)          0         \n",
            "=================================================================\n",
            "Total params: 9,210,880\n",
            "Trainable params: 9,210,880\n",
            "Non-trainable params: 0\n",
            "_________________________________________________________________\n"
          ],
          "name": "stdout"
        }
      ]
    },
    {
      "cell_type": "code",
      "metadata": {
        "id": "7lCueFNdR6FC",
        "colab_type": "code",
        "outputId": "ae768087-8a31-4f1f-d7b8-cc83ecc4e105",
        "colab": {
          "base_uri": "https://localhost:8080/",
          "height": 952
        }
      },
      "source": [
        "sequence_autoencoder.compile(optimizer='rmsprop', loss='categorical_crossentropy')\n",
        "sequence_autoencoder.fit_generator(x_seq, epochs=5)"
      ],
      "execution_count": 0,
      "outputs": [
        {
          "output_type": "stream",
          "text": [
            "Epoch 1/5\n",
            "3125/3125 [==============================] - 286s 92ms/step - loss: 3.9043\n",
            "Epoch 2/5\n",
            "3125/3125 [==============================] - 279s 89ms/step - loss: 3.8550\n",
            "Epoch 3/5\n",
            "3125/3125 [==============================] - 280s 90ms/step - loss: 3.8536\n",
            "Epoch 4/5\n",
            " 484/3125 [===>..........................] - ETA: 3:55 - loss: 3.8547"
          ],
          "name": "stdout"
        },
        {
          "output_type": "error",
          "ename": "KeyboardInterrupt",
          "evalue": "ignored",
          "traceback": [
            "\u001b[0;31m---------------------------------------------------------------------------\u001b[0m",
            "\u001b[0;31mKeyboardInterrupt\u001b[0m                         Traceback (most recent call last)",
            "\u001b[0;32m<ipython-input-49-98de2b46f0e0>\u001b[0m in \u001b[0;36m<module>\u001b[0;34m()\u001b[0m\n\u001b[1;32m      1\u001b[0m \u001b[0msequence_autoencoder\u001b[0m\u001b[0;34m.\u001b[0m\u001b[0mcompile\u001b[0m\u001b[0;34m(\u001b[0m\u001b[0moptimizer\u001b[0m\u001b[0;34m=\u001b[0m\u001b[0;34m'rmsprop'\u001b[0m\u001b[0;34m,\u001b[0m \u001b[0mloss\u001b[0m\u001b[0;34m=\u001b[0m\u001b[0;34m'categorical_crossentropy'\u001b[0m\u001b[0;34m)\u001b[0m\u001b[0;34m\u001b[0m\u001b[0;34m\u001b[0m\u001b[0m\n\u001b[0;32m----> 2\u001b[0;31m \u001b[0msequence_autoencoder\u001b[0m\u001b[0;34m.\u001b[0m\u001b[0mfit_generator\u001b[0m\u001b[0;34m(\u001b[0m\u001b[0mx_seq\u001b[0m\u001b[0;34m,\u001b[0m \u001b[0mepochs\u001b[0m\u001b[0;34m=\u001b[0m\u001b[0;36m5\u001b[0m\u001b[0;34m)\u001b[0m\u001b[0;34m\u001b[0m\u001b[0;34m\u001b[0m\u001b[0m\n\u001b[0m",
            "\u001b[0;32m/usr/local/lib/python3.6/dist-packages/tensorflow/python/keras/engine/training.py\u001b[0m in \u001b[0;36mfit_generator\u001b[0;34m(self, generator, steps_per_epoch, epochs, verbose, callbacks, validation_data, validation_steps, class_weight, max_queue_size, workers, use_multiprocessing, shuffle, initial_epoch)\u001b[0m\n\u001b[1;32m   2175\u001b[0m         \u001b[0muse_multiprocessing\u001b[0m\u001b[0;34m=\u001b[0m\u001b[0muse_multiprocessing\u001b[0m\u001b[0;34m,\u001b[0m\u001b[0;34m\u001b[0m\u001b[0;34m\u001b[0m\u001b[0m\n\u001b[1;32m   2176\u001b[0m         \u001b[0mshuffle\u001b[0m\u001b[0;34m=\u001b[0m\u001b[0mshuffle\u001b[0m\u001b[0;34m,\u001b[0m\u001b[0;34m\u001b[0m\u001b[0;34m\u001b[0m\u001b[0m\n\u001b[0;32m-> 2177\u001b[0;31m         initial_epoch=initial_epoch)\n\u001b[0m\u001b[1;32m   2178\u001b[0m \u001b[0;34m\u001b[0m\u001b[0m\n\u001b[1;32m   2179\u001b[0m   def evaluate_generator(self,\n",
            "\u001b[0;32m/usr/local/lib/python3.6/dist-packages/tensorflow/python/keras/engine/training_generator.py\u001b[0m in \u001b[0;36mfit_generator\u001b[0;34m(model, generator, steps_per_epoch, epochs, verbose, callbacks, validation_data, validation_steps, class_weight, max_queue_size, workers, use_multiprocessing, shuffle, initial_epoch)\u001b[0m\n\u001b[1;32m    174\u001b[0m \u001b[0;34m\u001b[0m\u001b[0m\n\u001b[1;32m    175\u001b[0m         outs = model.train_on_batch(\n\u001b[0;32m--> 176\u001b[0;31m             x, y, sample_weight=sample_weight, class_weight=class_weight)\n\u001b[0m\u001b[1;32m    177\u001b[0m \u001b[0;34m\u001b[0m\u001b[0m\n\u001b[1;32m    178\u001b[0m         \u001b[0;32mif\u001b[0m \u001b[0;32mnot\u001b[0m \u001b[0misinstance\u001b[0m\u001b[0;34m(\u001b[0m\u001b[0mouts\u001b[0m\u001b[0;34m,\u001b[0m \u001b[0mlist\u001b[0m\u001b[0;34m)\u001b[0m\u001b[0;34m:\u001b[0m\u001b[0;34m\u001b[0m\u001b[0;34m\u001b[0m\u001b[0m\n",
            "\u001b[0;32m/usr/local/lib/python3.6/dist-packages/tensorflow/python/keras/engine/training.py\u001b[0m in \u001b[0;36mtrain_on_batch\u001b[0;34m(self, x, y, sample_weight, class_weight)\u001b[0m\n\u001b[1;32m   1938\u001b[0m \u001b[0;34m\u001b[0m\u001b[0m\n\u001b[1;32m   1939\u001b[0m       \u001b[0mself\u001b[0m\u001b[0;34m.\u001b[0m\u001b[0m_make_train_function\u001b[0m\u001b[0;34m(\u001b[0m\u001b[0;34m)\u001b[0m\u001b[0;34m\u001b[0m\u001b[0;34m\u001b[0m\u001b[0m\n\u001b[0;32m-> 1940\u001b[0;31m       \u001b[0moutputs\u001b[0m \u001b[0;34m=\u001b[0m \u001b[0mself\u001b[0m\u001b[0;34m.\u001b[0m\u001b[0mtrain_function\u001b[0m\u001b[0;34m(\u001b[0m\u001b[0mins\u001b[0m\u001b[0;34m)\u001b[0m\u001b[0;34m\u001b[0m\u001b[0;34m\u001b[0m\u001b[0m\n\u001b[0m\u001b[1;32m   1941\u001b[0m \u001b[0;34m\u001b[0m\u001b[0m\n\u001b[1;32m   1942\u001b[0m     \u001b[0;32mif\u001b[0m \u001b[0mlen\u001b[0m\u001b[0;34m(\u001b[0m\u001b[0moutputs\u001b[0m\u001b[0;34m)\u001b[0m \u001b[0;34m==\u001b[0m \u001b[0;36m1\u001b[0m\u001b[0;34m:\u001b[0m\u001b[0;34m\u001b[0m\u001b[0;34m\u001b[0m\u001b[0m\n",
            "\u001b[0;32m/usr/local/lib/python3.6/dist-packages/tensorflow/python/keras/backend.py\u001b[0m in \u001b[0;36m__call__\u001b[0;34m(self, inputs)\u001b[0m\n\u001b[1;32m   2984\u001b[0m \u001b[0;34m\u001b[0m\u001b[0m\n\u001b[1;32m   2985\u001b[0m     fetched = self._callable_fn(*array_vals,\n\u001b[0;32m-> 2986\u001b[0;31m                                 run_metadata=self.run_metadata)\n\u001b[0m\u001b[1;32m   2987\u001b[0m     \u001b[0mself\u001b[0m\u001b[0;34m.\u001b[0m\u001b[0m_call_fetch_callbacks\u001b[0m\u001b[0;34m(\u001b[0m\u001b[0mfetched\u001b[0m\u001b[0;34m[\u001b[0m\u001b[0;34m-\u001b[0m\u001b[0mlen\u001b[0m\u001b[0;34m(\u001b[0m\u001b[0mself\u001b[0m\u001b[0;34m.\u001b[0m\u001b[0m_fetches\u001b[0m\u001b[0;34m)\u001b[0m\u001b[0;34m:\u001b[0m\u001b[0;34m]\u001b[0m\u001b[0;34m)\u001b[0m\u001b[0;34m\u001b[0m\u001b[0;34m\u001b[0m\u001b[0m\n\u001b[1;32m   2988\u001b[0m     \u001b[0;32mreturn\u001b[0m \u001b[0mfetched\u001b[0m\u001b[0;34m[\u001b[0m\u001b[0;34m:\u001b[0m\u001b[0mlen\u001b[0m\u001b[0;34m(\u001b[0m\u001b[0mself\u001b[0m\u001b[0;34m.\u001b[0m\u001b[0moutputs\u001b[0m\u001b[0;34m)\u001b[0m\u001b[0;34m]\u001b[0m\u001b[0;34m\u001b[0m\u001b[0;34m\u001b[0m\u001b[0m\n",
            "\u001b[0;32m/usr/local/lib/python3.6/dist-packages/tensorflow/python/client/session.py\u001b[0m in \u001b[0;36m__call__\u001b[0;34m(self, *args, **kwargs)\u001b[0m\n\u001b[1;32m   1437\u001b[0m           ret = tf_session.TF_SessionRunCallable(\n\u001b[1;32m   1438\u001b[0m               \u001b[0mself\u001b[0m\u001b[0;34m.\u001b[0m\u001b[0m_session\u001b[0m\u001b[0;34m.\u001b[0m\u001b[0m_session\u001b[0m\u001b[0;34m,\u001b[0m \u001b[0mself\u001b[0m\u001b[0;34m.\u001b[0m\u001b[0m_handle\u001b[0m\u001b[0;34m,\u001b[0m \u001b[0margs\u001b[0m\u001b[0;34m,\u001b[0m \u001b[0mstatus\u001b[0m\u001b[0;34m,\u001b[0m\u001b[0;34m\u001b[0m\u001b[0;34m\u001b[0m\u001b[0m\n\u001b[0;32m-> 1439\u001b[0;31m               run_metadata_ptr)\n\u001b[0m\u001b[1;32m   1440\u001b[0m         \u001b[0;32mif\u001b[0m \u001b[0mrun_metadata\u001b[0m\u001b[0;34m:\u001b[0m\u001b[0;34m\u001b[0m\u001b[0;34m\u001b[0m\u001b[0m\n\u001b[1;32m   1441\u001b[0m           \u001b[0mproto_data\u001b[0m \u001b[0;34m=\u001b[0m \u001b[0mtf_session\u001b[0m\u001b[0;34m.\u001b[0m\u001b[0mTF_GetBuffer\u001b[0m\u001b[0;34m(\u001b[0m\u001b[0mrun_metadata_ptr\u001b[0m\u001b[0;34m)\u001b[0m\u001b[0;34m\u001b[0m\u001b[0;34m\u001b[0m\u001b[0m\n",
            "\u001b[0;31mKeyboardInterrupt\u001b[0m: "
          ]
        }
      ]
    },
    {
      "cell_type": "code",
      "metadata": {
        "id": "eb2Xkytq9FIY",
        "colab_type": "code",
        "outputId": "36ed32f8-1edf-494d-9332-e79b2e5a925d",
        "colab": {
          "base_uri": "https://localhost:8080/",
          "height": 731
        }
      },
      "source": [
        "from tensorflow.keras.layers import *\n",
        "from tensorflow.keras.models import Model, Sequential\n",
        "\n",
        "timesteps = 140\n",
        "input_dim = 256\n",
        "\n",
        "encoder_inputs = Input(shape=(timesteps, input_dim))\n",
        "x = Conv1D(32, 3, activation='relu', padding='same')(encoder_inputs)\n",
        "x = MaxPooling1D(2, padding='same')(x)\n",
        "x = Conv1D(16, 3, activation='relu', padding='same')(x)\n",
        "x = MaxPooling1D(2, padding='same')(x)\n",
        "x = Conv1D(8, 3, activation='relu', padding='same')(x)\n",
        "encoded = Flatten()(x)\n",
        "\n",
        "decoder_inputs = Input(shape=(280,))\n",
        "x = Reshape((35,8))(decoder_inputs)\n",
        "x = Conv1D(32, 3, activation='relu', padding='same')(x)\n",
        "x = UpSampling1D(2)(x)\n",
        "x = Conv1D(64, 3, activation='relu', padding='same')(x)\n",
        "x = UpSampling1D(2)(x)\n",
        "decoded = Conv1D(256, 3, activation='softmax', padding='same')(x)\n",
        "\n",
        "encoder = Model(inputs=encoder_inputs, outputs=encoded)\n",
        "decoder = Model(inputs=decoder_inputs, outputs=decoded)\n",
        "\n",
        "encoder.summary()\n",
        "decoder.summary()\n",
        "\n",
        "sequence_autoencoder = Sequential()\n",
        "sequence_autoencoder.add(encoder)\n",
        "sequence_autoencoder.add(decoder)"
      ],
      "execution_count": 0,
      "outputs": [
        {
          "output_type": "stream",
          "text": [
            "_________________________________________________________________\n",
            "Layer (type)                 Output Shape              Param #   \n",
            "=================================================================\n",
            "input_1 (InputLayer)         (None, 140, 256)          0         \n",
            "_________________________________________________________________\n",
            "conv1d (Conv1D)              (None, 140, 32)           24608     \n",
            "_________________________________________________________________\n",
            "max_pooling1d (MaxPooling1D) (None, 70, 32)            0         \n",
            "_________________________________________________________________\n",
            "conv1d_1 (Conv1D)            (None, 70, 16)            1552      \n",
            "_________________________________________________________________\n",
            "max_pooling1d_1 (MaxPooling1 (None, 35, 16)            0         \n",
            "_________________________________________________________________\n",
            "conv1d_2 (Conv1D)            (None, 35, 8)             392       \n",
            "_________________________________________________________________\n",
            "flatten (Flatten)            (None, 280)               0         \n",
            "=================================================================\n",
            "Total params: 26,552\n",
            "Trainable params: 26,552\n",
            "Non-trainable params: 0\n",
            "_________________________________________________________________\n",
            "_________________________________________________________________\n",
            "Layer (type)                 Output Shape              Param #   \n",
            "=================================================================\n",
            "input_2 (InputLayer)         (None, 280)               0         \n",
            "_________________________________________________________________\n",
            "reshape (Reshape)            (None, 35, 8)             0         \n",
            "_________________________________________________________________\n",
            "conv1d_3 (Conv1D)            (None, 35, 32)            800       \n",
            "_________________________________________________________________\n",
            "up_sampling1d (UpSampling1D) (None, 70, 32)            0         \n",
            "_________________________________________________________________\n",
            "conv1d_4 (Conv1D)            (None, 70, 64)            6208      \n",
            "_________________________________________________________________\n",
            "up_sampling1d_1 (UpSampling1 (None, 140, 64)           0         \n",
            "_________________________________________________________________\n",
            "conv1d_5 (Conv1D)            (None, 140, 256)          49408     \n",
            "=================================================================\n",
            "Total params: 56,416\n",
            "Trainable params: 56,416\n",
            "Non-trainable params: 0\n",
            "_________________________________________________________________\n"
          ],
          "name": "stdout"
        }
      ]
    },
    {
      "cell_type": "code",
      "metadata": {
        "id": "7yGRmeANTVkD",
        "colab_type": "code",
        "outputId": "fa19ab22-4dd2-4c6a-e46c-4de821691781",
        "colab": {
          "base_uri": "https://localhost:8080/",
          "height": 1054
        }
      },
      "source": [
        "sequence_autoencoder.compile(optimizer='adadelta', loss='categorical_crossentropy')\n",
        "sequence_autoencoder.fit_generator(x_seq, epochs=30)"
      ],
      "execution_count": 0,
      "outputs": [
        {
          "output_type": "stream",
          "text": [
            "Epoch 1/30\n",
            "3125/3125 [==============================] - 65s 21ms/step - loss: 1.1008\n",
            "Epoch 2/30\n",
            "3125/3125 [==============================] - 62s 20ms/step - loss: 0.8385\n",
            "Epoch 3/30\n",
            "3125/3125 [==============================] - 62s 20ms/step - loss: 0.7461\n",
            "Epoch 4/30\n",
            "3125/3125 [==============================] - 62s 20ms/step - loss: 0.6453\n",
            "Epoch 5/30\n",
            "3125/3125 [==============================] - 62s 20ms/step - loss: 0.5681\n",
            "Epoch 6/30\n",
            "3125/3125 [==============================] - 62s 20ms/step - loss: 0.5312\n",
            "Epoch 7/30\n",
            "3125/3125 [==============================] - 62s 20ms/step - loss: 0.5042\n",
            "Epoch 8/30\n",
            "3125/3125 [==============================] - 62s 20ms/step - loss: 0.4831\n",
            "Epoch 9/30\n",
            "3125/3125 [==============================] - 62s 20ms/step - loss: 0.4673\n",
            "Epoch 10/30\n",
            "3125/3125 [==============================] - 62s 20ms/step - loss: 0.4544\n",
            "Epoch 11/30\n",
            "3125/3125 [==============================] - 61s 20ms/step - loss: 0.4443\n",
            "Epoch 12/30\n",
            "3125/3125 [==============================] - 61s 20ms/step - loss: 0.4364\n",
            "Epoch 13/30\n",
            "3125/3125 [==============================] - 61s 20ms/step - loss: 0.4295\n",
            "Epoch 14/30\n",
            "3125/3125 [==============================] - 62s 20ms/step - loss: 0.4233\n",
            "Epoch 15/30\n",
            "3125/3125 [==============================] - 62s 20ms/step - loss: 0.4181\n",
            "Epoch 16/30\n",
            "3125/3125 [==============================] - 63s 20ms/step - loss: 0.4134\n",
            "Epoch 17/30\n",
            "3125/3125 [==============================] - 62s 20ms/step - loss: 0.4090\n",
            "Epoch 18/30\n",
            "3125/3125 [==============================] - 62s 20ms/step - loss: 0.4057\n",
            "Epoch 19/30\n",
            "3125/3125 [==============================] - 64s 21ms/step - loss: 0.4017\n",
            "Epoch 20/30\n",
            "3125/3125 [==============================] - 65s 21ms/step - loss: 0.3979\n",
            "Epoch 21/30\n",
            "3125/3125 [==============================] - 65s 21ms/step - loss: 0.3940\n",
            "Epoch 22/30\n",
            "3125/3125 [==============================] - 65s 21ms/step - loss: 0.3914\n",
            "Epoch 23/30\n",
            "3125/3125 [==============================] - 65s 21ms/step - loss: 0.3881\n",
            "Epoch 24/30\n",
            "3125/3125 [==============================] - 64s 21ms/step - loss: 0.3847\n",
            "Epoch 25/30\n",
            "3125/3125 [==============================] - 63s 20ms/step - loss: 0.3820\n",
            "Epoch 26/30\n",
            "3125/3125 [==============================] - 63s 20ms/step - loss: 0.3789\n",
            "Epoch 27/30\n",
            "3125/3125 [==============================] - 62s 20ms/step - loss: 0.3770\n",
            "Epoch 28/30\n",
            "3125/3125 [==============================] - 62s 20ms/step - loss: 0.3746\n",
            "Epoch 29/30\n",
            "3125/3125 [==============================] - 62s 20ms/step - loss: 0.3724\n",
            "Epoch 30/30\n",
            "3125/3125 [==============================] - 63s 20ms/step - loss: 0.3704\n"
          ],
          "name": "stdout"
        },
        {
          "output_type": "execute_result",
          "data": {
            "text/plain": [
              "<tensorflow.python.keras.callbacks.History at 0x7ffb61044dd8>"
            ]
          },
          "metadata": {
            "tags": []
          },
          "execution_count": 9
        }
      ]
    },
    {
      "cell_type": "markdown",
      "metadata": {
        "id": "o323et_osK5x",
        "colab_type": "text"
      },
      "source": [
        "Le score de loss paraît bon (on pourrait mettre plus d'epochs pour l'améliorer), on va maintenant tester le modèle sur un tweet."
      ]
    },
    {
      "cell_type": "code",
      "metadata": {
        "id": "YjceAxed_oZT",
        "colab_type": "code",
        "colab": {}
      },
      "source": [
        "sequence_autoencoder.save('auto1.h5')"
      ],
      "execution_count": 0,
      "outputs": []
    },
    {
      "cell_type": "code",
      "metadata": {
        "id": "oDCn3D7tmzaP",
        "colab_type": "code",
        "colab": {}
      },
      "source": [
        "from tensorflow.keras.models import load_model\n",
        "sequence_autoencoder = load_model('auto1.h5') # pour éviter de devoir réentraîner le model tous les jours"
      ],
      "execution_count": 0,
      "outputs": []
    },
    {
      "cell_type": "code",
      "metadata": {
        "id": "7OSTgqBm_gQA",
        "colab_type": "code",
        "colab": {}
      },
      "source": [
        "def argmax(x_pred):\n",
        "  return [np.argmax(tweet, axis=1) for tweet in x_pred]\n",
        "\n",
        "def char_decoder(x_pred):\n",
        "  \"\"\"Traduit les chaînes de nombres en caractères\"\"\"\n",
        "  arr = []\n",
        "  for tweet in x_pred:\n",
        "    arr.append(''.join([chr(c) for c in tweet if c != 0]))\n",
        "  return np.array(arr)"
      ],
      "execution_count": 0,
      "outputs": []
    },
    {
      "cell_type": "code",
      "metadata": {
        "id": "EN5-kvptsIKZ",
        "colab_type": "code",
        "colab": {}
      },
      "source": [
        "x_pred = sequence_autoencoder.predict(x_test_seq)\n",
        "x_pred = char_decoder(argmax(x_pred))"
      ],
      "execution_count": 0,
      "outputs": []
    },
    {
      "cell_type": "code",
      "metadata": {
        "id": "MatJ9GUHA12Y",
        "colab_type": "code",
        "outputId": "fa2e3d15-d1d5-4134-eff7-f31661f1399c",
        "colab": {
          "base_uri": "https://localhost:8080/",
          "height": 85
        }
      },
      "source": [
        "print(x_pred[1])\n",
        "print(x_t[1])"
      ],
      "execution_count": 0,
      "outputs": [
        {
          "output_type": "stream",
          "text": [
            "A dode conniniree your cimeee to be ab0e to make toast sxmeode \n",
            "\n",
            "A dude configures your homies to be able to make toast explode \n",
            "\n"
          ],
          "name": "stdout"
        }
      ]
    },
    {
      "cell_type": "markdown",
      "metadata": {
        "id": "TEOt0FPrr-B4",
        "colab_type": "text"
      },
      "source": [
        "Le modèle fonctionne bien, il y a des erreurs mais c'était attendu : la \"loss\" n'est pas nulle, et cette loss est due aux pertes lors du décodage car on compresse les données sur un espace de moindres dimensions lors de l'encodage puis on les décompresse sur un espace de plus grandes dimensions lors du décodage."
      ]
    },
    {
      "cell_type": "markdown",
      "metadata": {
        "id": "-_PyuqdLxVmy",
        "colab_type": "text"
      },
      "source": [
        "**Create adversarial model**\n",
        "\n",
        "Use the decoder architecture as a generator and create a discriminator that classifies tweets as generated or real. Write a custom training loop that performs the folowing:\n",
        "\n",
        "\n",
        "1.   Get a batch of real tweets\n",
        "2.   Generates a batch of generated tweets\n",
        "3.   Train the discriminator to classify real/generated using the union of both batch\n",
        "4.   Train the generator (discriminator is not trainable) to classify generated tweets as real\n",
        "\n"
      ]
    },
    {
      "cell_type": "code",
      "metadata": {
        "id": "LNitvAyjA5xL",
        "colab_type": "code",
        "outputId": "686a8e20-b606-4e14-b64b-f02a1e563aed",
        "colab": {
          "base_uri": "https://localhost:8080/",
          "height": 170
        }
      },
      "source": [
        "inter_encoder = Sequential()\n",
        "inter_encoder.add(sequence_autoencoder.layers[0])\n",
        "inter_encoder.compile(optimizer='adadelta', loss='categorical_crossentropy')\n",
        "inter_encoder.set_weights(sequence_autoencoder.get_weights())\n",
        "inter_encoder.summary()"
      ],
      "execution_count": 0,
      "outputs": [
        {
          "output_type": "stream",
          "text": [
            "_________________________________________________________________\n",
            "Layer (type)                 Output Shape              Param #   \n",
            "=================================================================\n",
            "model (Model)                (None, 280)               26552     \n",
            "=================================================================\n",
            "Total params: 26,552\n",
            "Trainable params: 26,552\n",
            "Non-trainable params: 0\n",
            "_________________________________________________________________\n"
          ],
          "name": "stdout"
        }
      ]
    },
    {
      "cell_type": "code",
      "metadata": {
        "id": "eu3deF8xAcxA",
        "colab_type": "code",
        "outputId": "2ab892b3-93b3-4a88-fbf8-fa92646ed64f",
        "colab": {
          "base_uri": "https://localhost:8080/",
          "height": 34
        }
      },
      "source": [
        "prediction = inter_encoder.predict(x_test_seq)\n",
        "prediction.shape"
      ],
      "execution_count": 0,
      "outputs": [
        {
          "output_type": "execute_result",
          "data": {
            "text/plain": [
              "(96, 280)"
            ]
          },
          "metadata": {
            "tags": []
          },
          "execution_count": 19
        }
      ]
    },
    {
      "cell_type": "code",
      "metadata": {
        "id": "T_yQ3-6G8dX0",
        "colab_type": "code",
        "outputId": "c83c0c15-76df-452a-c228-dd145e3761d6",
        "colab": {
          "base_uri": "https://localhost:8080/",
          "height": 51
        }
      },
      "source": [
        "import seaborn as sns\n",
        "import scipy.stats as stats\n",
        "\n",
        "lower, upper = np.min(prediction), np.max(prediction)\n",
        "mu = np.mean(prediction)\n",
        "sigma = np.std(prediction)\n",
        "print(mu, sigma)\n",
        "print(lower, upper)"
      ],
      "execution_count": 0,
      "outputs": [
        {
          "output_type": "stream",
          "text": [
            "1.6501276 1.781072\n",
            "0.0 8.196584\n"
          ],
          "name": "stdout"
        }
      ]
    },
    {
      "cell_type": "code",
      "metadata": {
        "id": "65ncAXuAovVf",
        "colab_type": "code",
        "outputId": "845557a0-4d85-4dd8-8eb4-ba78ce3e96a2",
        "colab": {
          "base_uri": "https://localhost:8080/",
          "height": 212
        }
      },
      "source": [
        "sns.distplot(prediction[2], hist = False, kde = True, rug = True,\n",
        "             color = 'darkblue', \n",
        "             kde_kws={'linewidth': 3},\n",
        "             rug_kws={'color': 'black'})"
      ],
      "execution_count": 0,
      "outputs": [
        {
          "output_type": "error",
          "ename": "NameError",
          "evalue": "ignored",
          "traceback": [
            "\u001b[0;31m---------------------------------------------------------------------------\u001b[0m",
            "\u001b[0;31mNameError\u001b[0m                                 Traceback (most recent call last)",
            "\u001b[0;32m<ipython-input-1-4b3193c7979a>\u001b[0m in \u001b[0;36m<module>\u001b[0;34m()\u001b[0m\n\u001b[0;32m----> 1\u001b[0;31m sns.distplot(prediction[2], hist = False, kde = True, rug = True,\n\u001b[0m\u001b[1;32m      2\u001b[0m              \u001b[0mcolor\u001b[0m \u001b[0;34m=\u001b[0m \u001b[0;34m'darkblue'\u001b[0m\u001b[0;34m,\u001b[0m\u001b[0;34m\u001b[0m\u001b[0;34m\u001b[0m\u001b[0m\n\u001b[1;32m      3\u001b[0m              \u001b[0mkde_kws\u001b[0m\u001b[0;34m=\u001b[0m\u001b[0;34m{\u001b[0m\u001b[0;34m'linewidth'\u001b[0m\u001b[0;34m:\u001b[0m \u001b[0;36m3\u001b[0m\u001b[0;34m}\u001b[0m\u001b[0;34m,\u001b[0m\u001b[0;34m\u001b[0m\u001b[0;34m\u001b[0m\u001b[0m\n\u001b[1;32m      4\u001b[0m              rug_kws={'color': 'black'})\n",
            "\u001b[0;31mNameError\u001b[0m: name 'sns' is not defined"
          ]
        }
      ]
    },
    {
      "cell_type": "code",
      "metadata": {
        "id": "-1hf1fUTpmD5",
        "colab_type": "code",
        "outputId": "46915dbc-f761-4e6b-8756-3a11b9cedab0",
        "colab": {
          "base_uri": "https://localhost:8080/",
          "height": 364
        }
      },
      "source": [
        "# On simule un tweet par une distribution gaussienne tronquée au min et max de \n",
        "# la distribution réelle pour garder une densité de probabilité cohérente\n",
        "\n",
        "enct = stats.truncnorm((lower - mu) / sigma,\n",
        "                           (upper - mu) / sigma,\n",
        "                           loc=mu,\n",
        "                           scale=sigma)\n",
        "genpred = np.array([enct.rvs(280) for _ in range(100)]) # 100 tweets\n",
        "sns.distplot(genpred[25], hist = False, kde = True, rug = True,\n",
        "             color = 'darkblue', \n",
        "             kde_kws={'linewidth': 3},\n",
        "             rug_kws={'color': 'black'})"
      ],
      "execution_count": 0,
      "outputs": [
        {
          "output_type": "execute_result",
          "data": {
            "text/plain": [
              "<matplotlib.axes._subplots.AxesSubplot at 0x7fc14d8afc18>"
            ]
          },
          "metadata": {
            "tags": []
          },
          "execution_count": 86
        },
        {
          "output_type": "display_data",
          "data": {
            "image/png": "[encoded data removed]",
            "text/plain": [
              "<matplotlib.figure.Figure at 0x7fc14f30b9b0>"
            ]
          },
          "metadata": {
            "tags": []
          }
        }
      ]
    },
    {
      "cell_type": "code",
      "metadata": {
        "id": "73MFh1qpsPPq",
        "colab_type": "code",
        "colab": {}
      },
      "source": [
        "inter_decoder = Model(inputs=decoder_inputs, outputs=decoded)\n",
        "inter_decoder.set_weights(sequence_autoencoder.layers[1].get_weights())"
      ],
      "execution_count": 0,
      "outputs": []
    },
    {
      "cell_type": "code",
      "metadata": {
        "id": "6MMLOfCjqgTv",
        "colab_type": "code",
        "outputId": "160f25e2-4801-4b1b-ca8f-ffa1834e764d",
        "colab": {
          "base_uri": "https://localhost:8080/",
          "height": 51
        }
      },
      "source": [
        "generated_tweets = inter_decoder.predict(genpred)\n",
        "generated_tweets = char_decoder(argmax(generated_tweets))\n",
        "print(generated_tweets[50])"
      ],
      "execution_count": 0,
      "outputs": [
        {
          "output_type": "stream",
          "text": [
            "Ntt _uho topus 20 ? tgoddfoom thhhoh Mo?'hebbacf. fotf/?t&mbb;t ohom. hh ofoopfeeplr. gh hhll Toll thobw. y borr.&o hob thocomKono_@*sttst\n",
            "\n"
          ],
          "name": "stdout"
        }
      ]
    },
    {
      "cell_type": "markdown",
      "metadata": {
        "id": "5PfZbuP9XVW9",
        "colab_type": "text"
      },
      "source": [
        "On doit pouvoir obtenir mieux que ça en utilisant le décodeur, ça ne doit pas être la bonne manière de faire ?\n",
        "Reste à écrire l'adversarial network."
      ]
    },
    {
      "cell_type": "code",
      "metadata": {
        "id": "WwL-j5Eu58Ny",
        "colab_type": "code",
        "colab": {}
      },
      "source": [
        ""
      ],
      "execution_count": 0,
      "outputs": []
    }
  ]
}