{
  "nbformat": 4,
  "nbformat_minor": 0,
  "metadata": {
    "colab": {
      "name": "3SyM_Credit_Card_Delpierre_Lavner.ipynb",
      "version": "0.3.2",
      "provenance": [],
      "collapsed_sections": []
    },
    "kernelspec": {
      "name": "python3",
      "display_name": "Python 3"
    }
  },
  "cells": [
    {
      "metadata": {
        "id": "E32rbk3tmQDd",
        "colab_type": "text"
      },
      "cell_type": "markdown",
      "source": [
        "**Récupération des données**"
      ]
    },
    {
      "metadata": {
        "id": "bIEfyglImAQu",
        "colab_type": "code",
        "outputId": "2edf73ac-f7b6-4867-d0e5-0abb6e297309",
        "colab": {
          "base_uri": "https://localhost:8080/",
          "height": 278
        }
      },
      "cell_type": "code",
      "source": [
        "!wget http://perso-etis.ensea.fr/picard/UCI_Credit_Card.csv"
      ],
      "execution_count": 17,
      "outputs": [
        {
          "output_type": "stream",
          "text": [
            "--2018-10-17 14:25:50--  http://perso-etis.ensea.fr/picard/UCI_Credit_Card.csv\n",
            "Resolving perso-etis.ensea.fr (perso-etis.ensea.fr)... 193.51.45.246\n",
            "Connecting to perso-etis.ensea.fr (perso-etis.ensea.fr)|193.51.45.246|:80... connected.\n",
            "HTTP request sent, awaiting response... 301 Moved Permanently\n",
            "Location: https://perso-etis.ensea.fr//picard/UCI_Credit_Card.csv [following]\n",
            "--2018-10-17 14:25:50--  https://perso-etis.ensea.fr//picard/UCI_Credit_Card.csv\n",
            "Connecting to perso-etis.ensea.fr (perso-etis.ensea.fr)|193.51.45.246|:443... connected.\n",
            "HTTP request sent, awaiting response... 200 OK\n",
            "Length: 2862995 (2.7M) [text/csv]\n",
            "Saving to: ‘UCI_Credit_Card.csv.1’\n",
            "\n",
            "UCI_Credit_Card.csv 100%[===================>]   2.73M  2.44MB/s    in 1.1s    \n",
            "\n",
            "2018-10-17 14:25:52 (2.44 MB/s) - ‘UCI_Credit_Card.csv.1’ saved [2862995/2862995]\n",
            "\n"
          ],
          "name": "stdout"
        }
      ]
    },
    {
      "metadata": {
        "id": "DJCC6XXrrjdL",
        "colab_type": "text"
      },
      "cell_type": "markdown",
      "source": [
        "**Mise en forme des données**"
      ]
    },
    {
      "metadata": {
        "id": "iicmN_tEmEHS",
        "colab_type": "code",
        "colab": {}
      },
      "cell_type": "code",
      "source": [
        "import numpy as np\n",
        "import pandas as pd"
      ],
      "execution_count": 0,
      "outputs": []
    },
    {
      "metadata": {
        "id": "IKnOYv6AmdjL",
        "colab_type": "code",
        "outputId": "73a91f60-1524-48fa-f7de-5db054601acf",
        "colab": {
          "base_uri": "https://localhost:8080/",
          "height": 34
        }
      },
      "cell_type": "code",
      "source": [
        "uci = pd.read_csv('UCI_Credit_Card.csv', delimiter=',')\n",
        "X = uci.values[:, 1:-1]\n",
        "Y = uci.values[:,-1]\n",
        "\n",
        "size = len(Y)\n",
        "\n",
        "perm = np.arange(size)\n",
        "np.random.shuffle(perm)\n",
        "\n",
        "X_train = X[perm[0:20000], :]\n",
        "Y_train = Y[perm[0:20000]]\n",
        "X_val = X[perm[20000:25000],:]\n",
        "Y_val = Y[perm[20000:25000]]\n",
        "X_test = X[perm[25000:], :]\n",
        "Y_test = Y[perm[25000:]]\n",
        "\n",
        "print(f'{X_train.shape} training samples, {X_val.shape} validation sampels, {X_test.shape} test samples')"
      ],
      "execution_count": 19,
      "outputs": [
        {
          "output_type": "stream",
          "text": [
            "(20000, 23) training samples, (5000, 23) validation sampels, (5000, 23) test samples\n"
          ],
          "name": "stdout"
        }
      ]
    },
    {
      "metadata": {
        "id": "d1TEZPz5rnAn",
        "colab_type": "text"
      },
      "cell_type": "markdown",
      "source": [
        "**Affichage des données en 2D**"
      ]
    },
    {
      "metadata": {
        "id": "ZTMINg9Gm04x",
        "colab_type": "code",
        "colab": {}
      },
      "cell_type": "code",
      "source": [
        "from sklearn.preprocessing import MinMaxScaler\n",
        "from sklearn.decomposition import PCA, KernelPCA\n",
        "from sklearn.manifold import TSNE\n",
        "import matplotlib.pyplot as plt\n",
        "\n",
        "from matplotlib.colors import ListedColormap\n",
        "\n",
        "cmap = ListedColormap(['#0000FF', '#FF0000'])"
      ],
      "execution_count": 0,
      "outputs": []
    },
    {
      "metadata": {
        "id": "uvCDvUtRm2_6",
        "colab_type": "code",
        "outputId": "14049094-497d-4a59-f7d1-7c9683d8a7e7",
        "colab": {
          "base_uri": "https://localhost:8080/",
          "height": 364
        }
      },
      "cell_type": "code",
      "source": [
        "minmax = MinMaxScaler(feature_range=(-1,1))\n",
        "X = minmax.fit_transform(X_val)\n",
        "\n",
        "proj = KernelPCA(n_components=2, kernel='rbf', gamma=1.0)\n",
        "X_pca = proj.fit_transform(X)\n",
        "plt.scatter(X_pca[:,0], X_pca[:,1], c=Y_val, cmap=cmap, edgecolors='k', s=20)"
      ],
      "execution_count": 21,
      "outputs": [
        {
          "output_type": "execute_result",
          "data": {
            "text/plain": [
              "<matplotlib.collections.PathCollection at 0x7fa4304aecc0>"
            ]
          },
          "metadata": {
            "tags": []
          },
          "execution_count": 21
        },
        {
          "output_type": "display_data",
          "data": {
            "image/png": "[encoded data removed]",
            "text/plain": [
              "<matplotlib.figure.Figure at 0x7fa449a08860>"
            ]
          },
          "metadata": {
            "tags": []
          }
        }
      ]
    },
    {
      "metadata": {
        "id": "HRFalc84UD1t",
        "colab_type": "text"
      },
      "cell_type": "markdown",
      "source": [
        "**Standardisation des données**"
      ]
    },
    {
      "metadata": {
        "id": "Hl3QLIIOUB6v",
        "colab_type": "code",
        "colab": {}
      },
      "cell_type": "code",
      "source": [
        "mu = np.mean(X_train, axis=0)\n",
        "si = np.std(X_train-mu, axis=0)\n",
        "\n",
        "X_t = (X_train - mu)/si\n",
        "X_v = (X_val - mu)/si"
      ],
      "execution_count": 0,
      "outputs": []
    },
    {
      "metadata": {
        "id": "7IJnukR69IW3",
        "colab_type": "text"
      },
      "cell_type": "markdown",
      "source": [
        "**Méthode aléatoire**"
      ]
    },
    {
      "metadata": {
        "id": "WHCxO6UZ9MmP",
        "colab_type": "code",
        "colab": {
          "base_uri": "https://localhost:8080/",
          "height": 34
        },
        "outputId": "6663ad64-ea33-4d15-956f-496e329f6362"
      },
      "cell_type": "code",
      "source": [
        "1-np.mean(Y_test)"
      ],
      "execution_count": 23,
      "outputs": [
        {
          "output_type": "execute_result",
          "data": {
            "text/plain": [
              "0.7858"
            ]
          },
          "metadata": {
            "tags": []
          },
          "execution_count": 23
        }
      ]
    },
    {
      "metadata": {
        "id": "Au38k8Jv9XRJ",
        "colab_type": "text"
      },
      "cell_type": "markdown",
      "source": [
        "En moyenne 78.5% des personnes n'auront pas de défaut de payement ce mois-ci."
      ]
    },
    {
      "metadata": {
        "id": "4kUpELMnrtwf",
        "colab_type": "text"
      },
      "cell_type": "markdown",
      "source": [
        "**Méthodes linéaires**"
      ]
    },
    {
      "metadata": {
        "id": "Y8x1gH3mrykr",
        "colab_type": "code",
        "colab": {
          "base_uri": "https://localhost:8080/",
          "height": 52
        },
        "outputId": "0ed21e4a-d401-44f1-a42a-135ad7810b28"
      },
      "cell_type": "code",
      "source": [
        "import numpy as np\n",
        "from sklearn.discriminant_analysis import LinearDiscriminantAnalysis as LDA\n",
        "from sklearn.metrics import accuracy_score as a_s\n",
        "\n",
        "clf = LDA() \n",
        "clf.fit(X_train,Y_train)"
      ],
      "execution_count": 25,
      "outputs": [
        {
          "output_type": "execute_result",
          "data": {
            "text/plain": [
              "LinearDiscriminantAnalysis(n_components=None, priors=None, shrinkage=None,\n",
              "              solver='svd', store_covariance=False, tol=0.0001)"
            ]
          },
          "metadata": {
            "tags": []
          },
          "execution_count": 25
        }
      ]
    },
    {
      "metadata": {
        "id": "R3pre1gd586A",
        "colab_type": "code",
        "colab": {
          "base_uri": "https://localhost:8080/",
          "height": 52
        },
        "outputId": "9586a67f-d011-4695-a8ab-9afa5baa01db"
      },
      "cell_type": "code",
      "source": [
        "Y_predict_val = clf.predict(X_val)\n",
        "Y_predict_test = clf.predict(X_test)\n",
        "print(a_s(Y_predict_val, Y_val))\n",
        "print(a_s(Y_predict_test, Y_test))"
      ],
      "execution_count": 26,
      "outputs": [
        {
          "output_type": "stream",
          "text": [
            "0.8212\n",
            "0.8186\n"
          ],
          "name": "stdout"
        }
      ]
    },
    {
      "metadata": {
        "id": "0ZaUqhGe8obO",
        "colab_type": "text"
      },
      "cell_type": "markdown",
      "source": [
        "On obtient une précision supérieure à l'aléatoire pur, qui a une précision de 78.5%, pour un temps d'exécution triplé. En standardisant les données on perd en précision."
      ]
    },
    {
      "metadata": {
        "id": "Iv1QUm8zU2Rt",
        "colab_type": "code",
        "colab": {
          "base_uri": "https://localhost:8080/",
          "height": 52
        },
        "outputId": "c33eae0d-6f8a-4603-c8c0-976e13116c37"
      },
      "cell_type": "code",
      "source": [
        "clfs = LDA()\n",
        "clfs.fit(X_t, Y_train)"
      ],
      "execution_count": 27,
      "outputs": [
        {
          "output_type": "execute_result",
          "data": {
            "text/plain": [
              "LinearDiscriminantAnalysis(n_components=None, priors=None, shrinkage=None,\n",
              "              solver='svd', store_covariance=False, tol=0.0001)"
            ]
          },
          "metadata": {
            "tags": []
          },
          "execution_count": 27
        }
      ]
    },
    {
      "metadata": {
        "id": "DgMqpFbiU3RF",
        "colab_type": "code",
        "outputId": "1942bc98-c95e-4d44-8f1a-0f92e42b8310",
        "colab": {
          "base_uri": "https://localhost:8080/",
          "height": 34
        }
      },
      "cell_type": "code",
      "source": [
        "Y_preds = clfs.predict(X_test)\n",
        "a_s(Y_preds, Y_test)"
      ],
      "execution_count": 28,
      "outputs": [
        {
          "output_type": "execute_result",
          "data": {
            "text/plain": [
              "0.7858"
            ]
          },
          "metadata": {
            "tags": []
          },
          "execution_count": 28
        }
      ]
    },
    {
      "metadata": {
        "id": "del05S36rzdp",
        "colab_type": "text"
      },
      "cell_type": "markdown",
      "source": [
        "**k-nearest neighbors**"
      ]
    },
    {
      "metadata": {
        "id": "v7Uk-daSp9C_",
        "colab_type": "code",
        "colab": {
          "base_uri": "https://localhost:8080/",
          "height": 69
        },
        "outputId": "05b17d55-503e-4c1a-b44f-605fe24add6e"
      },
      "cell_type": "code",
      "source": [
        "from sklearn.neighbors import KNeighborsClassifier as KNC\n",
        "\n",
        "clf = KNC(n_neighbors=30)\n",
        "clf.fit(X_train,Y_train)\n"
      ],
      "execution_count": 29,
      "outputs": [
        {
          "output_type": "execute_result",
          "data": {
            "text/plain": [
              "KNeighborsClassifier(algorithm='auto', leaf_size=30, metric='minkowski',\n",
              "           metric_params=None, n_jobs=1, n_neighbors=30, p=2,\n",
              "           weights='uniform')"
            ]
          },
          "metadata": {
            "tags": []
          },
          "execution_count": 29
        }
      ]
    },
    {
      "metadata": {
        "id": "XPIGG3BDATzu",
        "colab_type": "code",
        "colab": {
          "base_uri": "https://localhost:8080/",
          "height": 52
        },
        "outputId": "6ac1aa75-928a-4e5e-8ede-eea5b4f5e748"
      },
      "cell_type": "code",
      "source": [
        "Y_predict_val = clf.predict(X_val)\n",
        "print(a_s(Y_predict_val, Y_val))\n",
        "\n",
        "Y_predict_test = clf.predict(X_test)\n",
        "print(a_s(Y_predict_test, Y_test))"
      ],
      "execution_count": 30,
      "outputs": [
        {
          "output_type": "stream",
          "text": [
            "0.7816\n",
            "0.7842\n"
          ],
          "name": "stdout"
        }
      ]
    },
    {
      "metadata": {
        "id": "njC7aDsiCJFV",
        "colab_type": "text"
      },
      "cell_type": "markdown",
      "source": [
        "On obtient donc une précision a peine supérieure pour K = 30 pour des temps d'exécution presque 6 fois supérieure. On cherche par la suite le K optimal. Par ailleurs les données n'ont pas été standardisées : en effet, dans notre cas, le changement de sexe a autant d'impact que la modification de 0.01ct d'une facture. Il est donc nécessaire de standardiser les données avant d'entraîner le classifieur."
      ]
    },
    {
      "metadata": {
        "id": "9e1zOmPY_O7M",
        "colab_type": "code",
        "colab": {}
      },
      "cell_type": "code",
      "source": [
        "lst = np.linspace(10, 200, num=25, dtype=int)"
      ],
      "execution_count": 0,
      "outputs": []
    },
    {
      "metadata": {
        "id": "eV5AjNY8-Up2",
        "colab_type": "code",
        "colab": {}
      },
      "cell_type": "code",
      "source": [
        "scores_lst = []\n",
        "for n in lst:\n",
        "  neigh = KNC(n_neighbors=n)\n",
        "  neigh.fit(X_t, Y_train)\n",
        "  Y_pred2 = neigh.predict(X_v)\n",
        "  scores_lst.append(a_s(Y_pred2, Y_val))"
      ],
      "execution_count": 0,
      "outputs": []
    },
    {
      "metadata": {
        "id": "RuzuBcbJF3LR",
        "colab_type": "code",
        "outputId": "eb99e31d-4a67-42f4-8a64-9d4d17dd92a7",
        "colab": {
          "base_uri": "https://localhost:8080/",
          "height": 52
        }
      },
      "cell_type": "code",
      "source": [
        "print(scores_lst)\n",
        "index_optimal = np.argmax(scores_lst)\n",
        "print(\"Le k optimal est \" + np.str(lst[index_optimal]))"
      ],
      "execution_count": 34,
      "outputs": [
        {
          "output_type": "stream",
          "text": [
            "[0.812, 0.8186, 0.8154, 0.8152, 0.815, 0.8152, 0.8142, 0.814, 0.8126, 0.8124, 0.8118, 0.8114, 0.8114, 0.811, 0.81, 0.8112, 0.8106, 0.8098, 0.81, 0.8098, 0.8094, 0.8084, 0.8088, 0.8092, 0.8094]\n",
            "Le k optimal est 17\n"
          ],
          "name": "stdout"
        }
      ]
    },
    {
      "metadata": {
        "id": "lj6vUWo5B-qA",
        "colab_type": "code",
        "outputId": "38723779-f72b-477f-c42e-1867cbce05ac",
        "colab": {
          "base_uri": "https://localhost:8080/",
          "height": 34
        }
      },
      "cell_type": "code",
      "source": [
        "neigh_test = KNC(n_neighbors=17)\n",
        "neigh_test.fit(X_t, Y_train)\n",
        "Y_pred_test = neigh_test.predict((X_test-mu)/si)\n",
        "a_s(Y_pred_test, Y_test)"
      ],
      "execution_count": 44,
      "outputs": [
        {
          "output_type": "execute_result",
          "data": {
            "text/plain": [
              "0.8164"
            ]
          },
          "metadata": {
            "tags": []
          },
          "execution_count": 44
        }
      ]
    },
    {
      "metadata": {
        "id": "tOTqaEu4r3sV",
        "colab_type": "text"
      },
      "cell_type": "markdown",
      "source": [
        "**Decision trees**"
      ]
    },
    {
      "metadata": {
        "id": "qyx-cTzJd7Hx",
        "colab_type": "code",
        "colab": {}
      },
      "cell_type": "code",
      "source": [
        "from sklearn.tree import DecisionTreeClassifier as DTC"
      ],
      "execution_count": 0,
      "outputs": []
    },
    {
      "metadata": {
        "colab_type": "code",
        "id": "Ce7Z3beHiay7",
        "colab": {}
      },
      "cell_type": "code",
      "source": [
        "clf = DTC(max_depth=3)\n",
        "clf.fit(X_train,Y_train)\n",
        "Y_predict_val = clf.predict(X_val)\n",
        "scores_lst2.append(a_s(Y_predict_val, Y_val))"
      ],
      "execution_count": 0,
      "outputs": []
    },
    {
      "metadata": {
        "id": "WQJYSKHqD_G8",
        "colab_type": "code",
        "colab": {
          "base_uri": "https://localhost:8080/",
          "height": 52
        },
        "outputId": "465393cd-563c-4703-b564-1c34fde03617"
      },
      "cell_type": "code",
      "source": [
        "Y_predict_val = clf.predict(X_val)\n",
        "print(a_s(Y_predict_val, Y_val))\n",
        "\n",
        "Y_predict_test = clf.predict(X_test)\n",
        "print(a_s(Y_predict_test, Y_test))"
      ],
      "execution_count": 68,
      "outputs": [
        {
          "output_type": "stream",
          "text": [
            "0.8302\n",
            "0.8306\n"
          ],
          "name": "stdout"
        }
      ]
    },
    {
      "metadata": {
        "id": "H4tIBf1UGS6q",
        "colab_type": "text"
      },
      "cell_type": "markdown",
      "source": [
        "On remarque que l'apprentissage par decision tree est fortement dépendant de la profondeur maximale choisie. Une max_depth à None nous donne une précision de 71%, alors que pour max_depth = 3 on obtient la meilleure précision entre toutes les méthodes utilisées lors de ce TP : 83%."
      ]
    },
    {
      "metadata": {
        "id": "pSeDPtx5r8eW",
        "colab_type": "text"
      },
      "cell_type": "markdown",
      "source": [
        "**SVM**"
      ]
    },
    {
      "metadata": {
        "id": "-YZo1I2-r_Pf",
        "colab_type": "code",
        "colab": {}
      },
      "cell_type": "code",
      "source": [
        "from sklearn.svm import SVC\n",
        "\n",
        "clf = SVC(gamma='auto')\n",
        "clf.fit(X_train,Y_train)"
      ],
      "execution_count": 0,
      "outputs": []
    },
    {
      "metadata": {
        "id": "HV5_M4v7IETf",
        "colab_type": "code",
        "colab": {
          "base_uri": "https://localhost:8080/",
          "height": 52
        },
        "outputId": "4d9a26c5-da6c-4fed-c359-7396332f87cd"
      },
      "cell_type": "code",
      "source": [
        "Y_predict_val = clf.predict(X_val)\n",
        "print(a_s(Y_predict_val, Y_val))\n",
        "\n",
        "Y_predict_test = clf.predict(X_test)\n",
        "print(a_s(Y_predict_test, Y_test))"
      ],
      "execution_count": 48,
      "outputs": [
        {
          "output_type": "stream",
          "text": [
            "0.7854\n",
            "0.7874\n"
          ],
          "name": "stdout"
        }
      ]
    },
    {
      "metadata": {
        "id": "kdS-9WcYsAVh",
        "colab_type": "text"
      },
      "cell_type": "markdown",
      "source": [
        "**Boosting**"
      ]
    },
    {
      "metadata": {
        "id": "9pQI4N_8sEfo",
        "colab_type": "code",
        "colab": {}
      },
      "cell_type": "code",
      "source": [
        "from sklearn.ensemble import GradientBoostingClassifier as GBC\n",
        "\n",
        "clf = GBC()\n",
        "clf.fit(X_train,Y_train)"
      ],
      "execution_count": 0,
      "outputs": []
    },
    {
      "metadata": {
        "id": "IJAKsI7oQSBy",
        "colab_type": "code",
        "colab": {
          "base_uri": "https://localhost:8080/",
          "height": 52
        },
        "outputId": "81f00f04-c678-42ac-abc8-5d9d236b06f3"
      },
      "cell_type": "code",
      "source": [
        "Y_predict_val = clf.predict(X_val)\n",
        "print(a_s(Y_predict_val, Y_val))\n",
        "\n",
        "Y_predict_test = clf.predict(X_test)\n",
        "print(a_s(Y_predict_test, Y_test))"
      ],
      "execution_count": 68,
      "outputs": [
        {
          "output_type": "stream",
          "text": [
            "0.8198\n",
            "0.8254\n"
          ],
          "name": "stdout"
        }
      ]
    },
    {
      "metadata": {
        "id": "zoQcBX_yU5h6",
        "colab_type": "code",
        "colab": {}
      },
      "cell_type": "code",
      "source": [
        "from sklearn.ensemble import AdaBoostClassifier as ABC\n",
        "\n",
        "clf = GBC()\n",
        "clf.fit(X_train,Y_train)"
      ],
      "execution_count": 0,
      "outputs": []
    },
    {
      "metadata": {
        "id": "8PWrkknMVLeT",
        "colab_type": "code",
        "colab": {
          "base_uri": "https://localhost:8080/",
          "height": 52
        },
        "outputId": "154bfd31-f1f6-469f-8e09-a88688e705fb"
      },
      "cell_type": "code",
      "source": [
        "Y_predict_val = clf.predict(X_val)\n",
        "print(a_s(Y_predict_val, Y_val))\n",
        "\n",
        "Y_predict_test = clf.predict(X_test)\n",
        "print(a_s(Y_predict_test, Y_test))"
      ],
      "execution_count": 52,
      "outputs": [
        {
          "output_type": "stream",
          "text": [
            "0.8256\n",
            "0.829\n"
          ],
          "name": "stdout"
        }
      ]
    },
    {
      "metadata": {
        "id": "EskJlH7FdQGl",
        "colab_type": "text"
      },
      "cell_type": "markdown",
      "source": [
        "On voit donc que les classifieurs entraînés avec les méthodes de boosting ont des précisions très bonnes : en effet, de toutes les méthodes testées, elle est l'une des plus précises. Néanmoins, le temps d'exécution est multiplié par 10."
      ]
    },
    {
      "metadata": {
        "id": "QshFSKCYsFoS",
        "colab_type": "text"
      },
      "cell_type": "markdown",
      "source": [
        "**Neural networks**"
      ]
    },
    {
      "metadata": {
        "id": "3IPgvCpCr7qN",
        "colab_type": "code",
        "colab": {
          "base_uri": "https://localhost:8080/",
          "height": 139
        },
        "outputId": "4174ae15-bf11-4bb8-bea4-25d006b4e24e"
      },
      "cell_type": "code",
      "source": [
        "from sklearn.neural_network import MLPClassifier as MLPC\n",
        "\n",
        "clf = MLPC()\n",
        "clf.fit(X_train,Y_train)"
      ],
      "execution_count": 71,
      "outputs": [
        {
          "output_type": "execute_result",
          "data": {
            "text/plain": [
              "MLPClassifier(activation='relu', alpha=0.0001, batch_size='auto', beta_1=0.9,\n",
              "       beta_2=0.999, early_stopping=False, epsilon=1e-08,\n",
              "       hidden_layer_sizes=(100,), learning_rate='constant',\n",
              "       learning_rate_init=0.001, max_iter=200, momentum=0.9,\n",
              "       nesterovs_momentum=True, power_t=0.5, random_state=None,\n",
              "       shuffle=True, solver='adam', tol=0.0001, validation_fraction=0.1,\n",
              "       verbose=False, warm_start=False)"
            ]
          },
          "metadata": {
            "tags": []
          },
          "execution_count": 71
        }
      ]
    },
    {
      "metadata": {
        "id": "2ad97IhsUKKV",
        "colab_type": "code",
        "colab": {
          "base_uri": "https://localhost:8080/",
          "height": 52
        },
        "outputId": "b4df6d49-c381-43a7-b890-33f8c3bd041a"
      },
      "cell_type": "code",
      "source": [
        "Y_predict_val = clf.predict(X_val)\n",
        "print(a_s(Y_predict_val, Y_val))\n",
        "\n",
        "Y_predict_test = clf.predict(X_test)\n",
        "print(a_s(Y_predict_test, Y_test))"
      ],
      "execution_count": 72,
      "outputs": [
        {
          "output_type": "stream",
          "text": [
            "0.7724\n",
            "0.778\n"
          ],
          "name": "stdout"
        }
      ]
    },
    {
      "metadata": {
        "id": "gQbItOGogII-",
        "colab_type": "text"
      },
      "cell_type": "markdown",
      "source": [
        "Le classifieur entraîné avec la méthode du réseau de neurone est une des pires méthodes pour ce problème : en effet, non seulement la précision est inférieure à la précision du classifieur aléatoire, mais aussi extrêmement variable, les valeurs pouvant changer sensiblement entre les différentes exécutions . "
      ]
    },
    {
      "metadata": {
        "id": "JYnJ4B4JjjjJ",
        "colab_type": "text"
      },
      "cell_type": "markdown",
      "source": [
        "**Conclusion :**\n",
        "\n",
        "Toutes les méthodes de classification ne se valent pas : pour ce problème, les meilleurs classifieurs ont été l'entraînement avec la méthode de boosting, les decision tree (une fois que la profondeur maximale a été fixée) ainsi qu'avec les méthodes linéaires."
      ]
    }
  ]
}